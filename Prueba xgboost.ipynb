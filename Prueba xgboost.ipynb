{
 "cells": [
  {
   "cell_type": "code",
   "execution_count": 1,
   "metadata": {},
   "outputs": [],
   "source": [
    "import pandas as pd\n",
    "import numpy as np\n",
    "from matplotlib import pyplot as plt\n",
    "import random\n",
    "import time\n",
    "import re\n",
    "import pickle\n",
    "\n",
    "pd.set_option('display.max_rows', 1000)\n",
    "pd.set_option('display.max_columns', 1000)\n",
    "pd.set_option('display.float_format', lambda x: '%.3f' % x)\n",
    "from tqdm import tqdm\n",
    "\n",
    "\n",
    "\n",
    "#Feature engineering\n",
    "from sklearn.model_selection import train_test_split\n",
    "from sklearn.metrics import mean_absolute_error, mean_absolute_percentage_error, r2_score, mean_squared_error\n",
    "from sklearn.metrics import r2_score\n",
    "\n",
    "#Modeling\n",
    "import statsmodels.formula.api as smf\n",
    "from sklearn.model_selection import KFold, GridSearchCV, RandomizedSearchCV\n",
    "from xgboost import XGBRegressor\n",
    "from lightgbm import LGBMRegressor\n",
    "\n",
    "# Skopt functions\n",
    "from sklearn.metrics import make_scorer\n",
    "from sklearn.metrics import mean_squared_error\n",
    "import shap\n",
    "\n",
    "#Outlier Detection\n",
    "import pyod\n",
    "from pyod.models.abod import ABOD\n",
    "\n",
    "import warnings\n",
    "warnings.filterwarnings(\"ignore\") \n",
    "\n",
    "import itertools"
   ]
  },
  {
   "cell_type": "code",
   "execution_count": 2,
   "metadata": {},
   "outputs": [
    {
     "data": {
      "text/plain": [
       "(94479, 176)"
      ]
     },
     "execution_count": 2,
     "metadata": {},
     "output_type": "execute_result"
    }
   ],
   "source": [
    "data = pd.read_csv('segmentos_junio_23.csv')\n",
    "df = data[['EFH segmento','diff_Z Coor','Payload','Speed GPS AVG', 'aceleración','Engine Load AVG','Engine Speed AVG', 'Transmission Gear AVG','Pitch AVG', 'Throttle Position AVG','Ambient Air Temperature', 'Atmospheric Pressure','Service Hours','Engine Coolant Temperature AVG', 'Engine Fan Speed AVG','operador', 'equipo_acarreo', 'turno', 'Engine Fuel Rate AVG']]\n",
    "#Se quita del análisis el Camion CA17 debido a que la señal de esta invertida.\n",
    "df = df[df['equipo_acarreo'] != 'CA17']  \n",
    "df.shape\n",
    "\n",
    "#Data Split for traning and testing\n",
    "X = df.iloc[:,:-1]\n",
    "y = df.iloc[:,-1]\n",
    "X_train, X_test, y_train, y_test = train_test_split(X, y, test_size=0.25, random_state=100)\n",
    "df_train = pd.concat([X_train, y_train], axis=1)\n",
    "df_test = pd.concat([X_test, y_test], axis=1)\n",
    "\n",
    "\n",
    "#Remoción de Outliers con librería PYOD\n",
    "#Se utiliza el método Angle-Based Outlier Detection -ABOD-\n",
    "clf1 = ABOD(contamination=0.12)\n",
    "clf1.fit(df_train.drop(['operador','equipo_acarreo', 'turno'], axis=1))\n",
    "df_train['OD'] = clf1.predict(df_train.drop(['operador','equipo_acarreo', 'turno'], axis=1))\n",
    "df_train=df_train[df_train['OD']!=1].drop('OD', axis=1)\n",
    "\n",
    "X_train2 = df_train.iloc[:,:-1]\n",
    "y_train2 = df_train.iloc[:,-1]\n",
    "\n",
    "#Volvemos a revisar las correlaciones con el target\n",
    "#corr = df_train.corr()\n",
    "#corr['Engine Fuel Rate AVG'].sort_values(ascending=False)\n",
    "\n",
    "\n",
    "#Se anexan las variables categoricas al dataset\n",
    "train = X_train2.drop(['operador','equipo_acarreo', 'turno'], axis=1)\n",
    "test = X_test.drop(['operador','equipo_acarreo','turno'], axis=1)\n",
    "\n",
    "X_train2[['EFH segmento','diff_Z Coor','Payload','Speed GPS AVG', 'aceleración','Engine Load AVG','Engine Speed AVG', 'Transmission Gear AVG','Pitch AVG', 'Throttle Position AVG','Ambient Air Temperature', 'Atmospheric Pressure','Service Hours','Engine Coolant Temperature AVG', 'Engine Fan Speed AVG']] = train\n",
    "\n",
    "X_test[['EFH segmento','diff_Z Coor','Payload','Speed GPS AVG', 'aceleración','Engine Load AVG','Engine Speed AVG', 'Transmission Gear AVG','Pitch AVG', 'Throttle Position AVG','Ambient Air Temperature', 'Atmospheric Pressure','Service Hours','Engine Coolant Temperature AVG', 'Engine Fan Speed AVG']] = test\n",
    "\n",
    "#Se generan las variables dummies\n",
    "X_train3 = pd.get_dummies(X_train2)\n",
    "y_train3 = y_train2\n",
    "X_test3 = pd.get_dummies(X_test)\n",
    "y_test3 = y_test\n",
    "X_test3.shape\n"
   ]
  },
  {
   "cell_type": "code",
   "execution_count": 3,
   "metadata": {},
   "outputs": [],
   "source": [
    "X_test3 = X_test3.rename(columns = lambda x:re.sub('[^A-Za-z0-9_]+', '', x))\n",
    "X_train3 = X_train3.rename(columns = lambda x:re.sub('[^A-Za-z0-9_]+', '', x))"
   ]
  },
  {
   "cell_type": "code",
   "execution_count": 4,
   "metadata": {},
   "outputs": [],
   "source": [
    "curr_best_params = {\n",
    "                    10:{'score':10000000},\n",
    "                    }\n"
   ]
  },
  {
   "cell_type": "code",
   "execution_count": 5,
   "metadata": {},
   "outputs": [],
   "source": [
    "### CAMBIAR EN OPEN best_params por otro nombre \n",
    "\n",
    "best_params_route = 'best_params_2022_10_29_mean_XGB'\n",
    "dictionary_route = 'dictionary_2022_10_29_mean_XGB'"
   ]
  },
  {
   "cell_type": "code",
   "execution_count": 6,
   "metadata": {},
   "outputs": [],
   "source": [
    "dictionary = {}\n",
    "def tuning(n_iterations):\n",
    "    \n",
    "    train_x = X_train3.copy()\n",
    "    train_y = y_train3.copy()\n",
    "    test_x = X_test3.copy()\n",
    "    test_y = y_test3.copy()\n",
    "\n",
    "#        'n_jobs': [-1], \n",
    "    param_grid = {\n",
    "        'colsample_bytree': [0.2,0.4,0.6,0.8,1.0],  \n",
    "        'eta': [0.005, 0.007, 0.009,0.01,0.015,0.017,0.02,0.05,0.07,0.09,0.1,0.3, 0.5, 0.7, 1], \n",
    "        'max_depth': [6,7,8,9,10], \n",
    "        'n_estimators': [5, 10,20,50, 70,100], \n",
    "        'max_leaves': [2,5,7,10,15,20,30,35], \n",
    "        'seed': [42], \n",
    "        'n_jobs': [-1], \n",
    "        'reg_alpha': [0.0, 0.1, 0.5, 1, 2 , 5, 10, 50, 100], \n",
    "        'reg_lambda': [0.0, 0.1, 0.5, 1, 2 , 5, 10, 50, 100], \n",
    "        'subsample': [0.6, 0.65, 0.7, 0.75, 0.8, 0.85, 0.9, 1.0]\n",
    "    }\n",
    "\n",
    "    comb_params = list(itertools.product(*param_grid.values()))\n",
    "\n",
    "    if n_iterations == -1:\n",
    "        rand_comb_params = comb_params\n",
    "    else:\n",
    "        rand_comb_params = random.sample(comb_params, n_iterations)\n",
    "\n",
    "    best_params_ = curr_best_params[10]\n",
    "    best_score_  = best_params_.pop('score',None)\n",
    "\n",
    "    i=0\n",
    "\n",
    "    for tup in tqdm(rand_comb_params):\n",
    "        param = {}\n",
    "        for idx,j in enumerate(param_grid.keys()):\n",
    "            param[j] = tup[idx]\n",
    "        \n",
    "        param_check = param\n",
    "        \n",
    "        key_ = hash(frozenset(param_check.values()))\n",
    "        \n",
    "        if key_ in dictionary:\n",
    "            continue\n",
    "        \n",
    "        dictionary[key_] = param_check\n",
    "        \n",
    "        model = XGBRegressor(**param)\n",
    "        model.fit(train_x,train_y)\n",
    "        y_pred = model.predict(test_x)\n",
    "        score = loss_func(test_y,y_pred)\n",
    "        #print(score, mean_squared_error(test_y,y_pred))\n",
    "        del model\n",
    "\n",
    "        if score < best_score_:\n",
    "            best_score_ = score\n",
    "            best_params_ = param\n",
    "            \n",
    "            print('@@@@@@@')\n",
    "            print(best_score_, best_params_)\n",
    "            \n",
    "            aux = best_params_\n",
    "            aux['score'] = best_score_\n",
    "            curr_best_params[10] = aux\n",
    "            del aux\n",
    "            best_params_file = open(best_params_route, 'wb') \n",
    "            pickle.dump(curr_best_params, best_params_file) \n",
    "            best_params_file.close()    \n",
    "            \n",
    "            dictionary_file = open(dictionary_route, 'wb') \n",
    "            pickle.dump(dictionary, dictionary_file) \n",
    "            dictionary_file.close()\n",
    "\n",
    "        i = i+1\n",
    "        if i%100 == 0:\n",
    "            aux = best_params_\n",
    "            aux['score'] = best_score_\n",
    "            curr_best_params[10] = aux\n",
    "            del aux\n",
    "            best_params_file = open(best_params_route, 'wb') \n",
    "            pickle.dump(curr_best_params, best_params_file) \n",
    "            best_params_file.close()    \n",
    "            \n",
    "            dictionary_file = open(dictionary_route, 'wb') \n",
    "            pickle.dump(dictionary, dictionary_file) \n",
    "            dictionary_file.close() \n",
    "\n",
    "    aux = best_params_\n",
    "    aux['score'] = best_score_\n",
    "    curr_best_params[10] = aux\n",
    "    del aux\n",
    "    best_params_file = open(best_params_route, 'wb') \n",
    "    pickle.dump(curr_best_params, best_params_file) \n",
    "    best_params_file.close()    \n",
    "    dictionary_file = open(dictionary_route, 'wb') \n",
    "    pickle.dump(dictionary, dictionary_file) \n",
    "    dictionary_file.close() \n",
    "         \n",
    "    model = XGBRegressor(**best_params_)\n",
    "    model.fit(train_x,train_y)\n",
    "    y_pred = model.predict(test_x)\n",
    "    score = loss_func(test_y,y_pred)\n",
    "    print('##################################')\n",
    "    print(score, mean_squared_error(test_y,y_pred))\n",
    "    \n",
    "    return best_score_, best_params_\n",
    "\n",
    "\n",
    "def loss_func(y_test,y_pred):\n",
    "    return mean_absolute_error(y_test, y_pred)"
   ]
  },
  {
   "cell_type": "code",
   "execution_count": 7,
   "metadata": {},
   "outputs": [
    {
     "name": "stderr",
     "output_type": "stream",
     "text": [
      "  0%|          | 0/2000 [00:00<?, ?it/s]"
     ]
    },
    {
     "name": "stdout",
     "output_type": "stream",
     "text": [
      "@@@@@@@\n",
      "43.67974418133747 {'colsample_bytree': 1.0, 'eta': 1, 'max_depth': 8, 'n_estimators': 10, 'max_leaves': 15, 'seed': 42, 'n_jobs': -1, 'reg_alpha': 0.0, 'reg_lambda': 0.5, 'subsample': 0.85}\n"
     ]
    },
    {
     "name": "stderr",
     "output_type": "stream",
     "text": [
      "  0%|          | 9/2000 [00:59<5:09:44,  9.33s/it]"
     ]
    },
    {
     "name": "stdout",
     "output_type": "stream",
     "text": [
      "@@@@@@@\n",
      "41.39045349538543 {'colsample_bytree': 0.6, 'eta': 0.07, 'max_depth': 8, 'n_estimators': 70, 'max_leaves': 15, 'seed': 42, 'n_jobs': -1, 'reg_alpha': 2, 'reg_lambda': 0.5, 'subsample': 0.6}\n"
     ]
    },
    {
     "name": "stderr",
     "output_type": "stream",
     "text": [
      "  0%|          | 10/2000 [01:15<6:12:43, 11.24s/it]"
     ]
    },
    {
     "name": "stdout",
     "output_type": "stream",
     "text": [
      "@@@@@@@\n",
      "41.33202270239916 {'colsample_bytree': 0.6, 'eta': 0.09, 'max_depth': 6, 'n_estimators': 100, 'max_leaves': 35, 'seed': 42, 'n_jobs': -1, 'reg_alpha': 5, 'reg_lambda': 0.1, 'subsample': 0.85}\n"
     ]
    },
    {
     "name": "stderr",
     "output_type": "stream",
     "text": [
      "  1%|          | 14/2000 [02:02<7:59:09, 14.48s/it]"
     ]
    },
    {
     "name": "stdout",
     "output_type": "stream",
     "text": [
      "@@@@@@@\n",
      "41.02088671281907 {'colsample_bytree': 1.0, 'eta': 0.05, 'max_depth': 8, 'n_estimators': 100, 'max_leaves': 20, 'seed': 42, 'n_jobs': -1, 'reg_alpha': 1, 'reg_lambda': 5, 'subsample': 0.75}\n"
     ]
    },
    {
     "name": "stderr",
     "output_type": "stream",
     "text": [
      "  4%|▍         | 86/2000 [13:20<6:57:06, 13.08s/it]"
     ]
    },
    {
     "name": "stdout",
     "output_type": "stream",
     "text": [
      "@@@@@@@\n",
      "40.588065939427466 {'colsample_bytree': 1.0, 'eta': 0.3, 'max_depth': 8, 'n_estimators': 70, 'max_leaves': 10, 'seed': 42, 'n_jobs': -1, 'reg_alpha': 0.1, 'reg_lambda': 2, 'subsample': 0.9}\n"
     ]
    },
    {
     "name": "stderr",
     "output_type": "stream",
     "text": [
      "  5%|▌         | 101/2000 [16:16<7:31:05, 14.25s/it]"
     ]
    },
    {
     "name": "stdout",
     "output_type": "stream",
     "text": [
      "@@@@@@@\n",
      "40.37987151694299 {'colsample_bytree': 0.6, 'eta': 0.1, 'max_depth': 9, 'n_estimators': 100, 'max_leaves': 2, 'seed': 42, 'n_jobs': -1, 'reg_alpha': 0.0, 'reg_lambda': 0.1, 'subsample': 0.9}\n"
     ]
    },
    {
     "name": "stderr",
     "output_type": "stream",
     "text": [
      " 54%|█████▍    | 1078/2000 [2:57:21<4:34:16, 17.85s/it]"
     ]
    },
    {
     "name": "stdout",
     "output_type": "stream",
     "text": [
      "@@@@@@@\n",
      "40.36009708450232 {'colsample_bytree': 0.8, 'eta': 0.09, 'max_depth': 8, 'n_estimators': 100, 'max_leaves': 15, 'seed': 42, 'n_jobs': -1, 'reg_alpha': 2, 'reg_lambda': 0.5, 'subsample': 1.0}\n"
     ]
    },
    {
     "name": "stderr",
     "output_type": "stream",
     "text": [
      " 56%|█████▌    | 1110/2000 [3:02:02<2:57:15, 11.95s/it]"
     ]
    },
    {
     "name": "stdout",
     "output_type": "stream",
     "text": [
      "@@@@@@@\n",
      "40.34278113622279 {'colsample_bytree': 0.8, 'eta': 0.1, 'max_depth': 8, 'n_estimators': 100, 'max_leaves': 7, 'seed': 42, 'n_jobs': -1, 'reg_alpha': 0.5, 'reg_lambda': 5, 'subsample': 0.85}\n"
     ]
    },
    {
     "name": "stderr",
     "output_type": "stream",
     "text": [
      " 63%|██████▎   | 1267/2000 [3:25:32<2:07:22, 10.43s/it]"
     ]
    },
    {
     "name": "stdout",
     "output_type": "stream",
     "text": [
      "@@@@@@@\n",
      "40.3154328910725 {'colsample_bytree': 1.0, 'eta': 0.1, 'max_depth': 9, 'n_estimators': 70, 'max_leaves': 20, 'seed': 42, 'n_jobs': -1, 'reg_alpha': 1, 'reg_lambda': 0.5, 'subsample': 1.0}\n"
     ]
    },
    {
     "name": "stderr",
     "output_type": "stream",
     "text": [
      " 67%|██████▋   | 1337/2000 [3:37:13<4:33:06, 24.72s/it]"
     ]
    },
    {
     "name": "stdout",
     "output_type": "stream",
     "text": [
      "@@@@@@@\n",
      "40.11477478044242 {'colsample_bytree': 1.0, 'eta': 0.09, 'max_depth': 9, 'n_estimators': 100, 'max_leaves': 20, 'seed': 42, 'n_jobs': -1, 'reg_alpha': 100, 'reg_lambda': 0.5, 'subsample': 0.85}\n"
     ]
    },
    {
     "name": "stderr",
     "output_type": "stream",
     "text": [
      " 73%|███████▎  | 1458/2000 [3:58:50<2:10:21, 14.43s/it]"
     ]
    },
    {
     "name": "stdout",
     "output_type": "stream",
     "text": [
      "@@@@@@@\n",
      "40.07458155603482 {'colsample_bytree': 0.6, 'eta': 0.09, 'max_depth': 10, 'n_estimators': 100, 'max_leaves': 35, 'seed': 42, 'n_jobs': -1, 'reg_alpha': 50, 'reg_lambda': 5, 'subsample': 1.0}\n"
     ]
    },
    {
     "name": "stderr",
     "output_type": "stream",
     "text": [
      " 88%|████████▊ | 1754/2000 [4:54:10<1:11:56, 17.55s/it]"
     ]
    },
    {
     "name": "stdout",
     "output_type": "stream",
     "text": [
      "@@@@@@@\n",
      "40.06066711820832 {'colsample_bytree': 1.0, 'eta': 0.1, 'max_depth': 10, 'n_estimators': 100, 'max_leaves': 35, 'seed': 42, 'n_jobs': -1, 'reg_alpha': 5, 'reg_lambda': 5, 'subsample': 0.75}\n"
     ]
    },
    {
     "name": "stderr",
     "output_type": "stream",
     "text": [
      "100%|██████████| 2000/2000 [5:34:16<00:00, 10.03s/it]  \n"
     ]
    },
    {
     "name": "stdout",
     "output_type": "stream",
     "text": [
      "[16:31:05] WARNING: C:/buildkite-agent/builds/buildkite-windows-cpu-autoscaling-group-i-03de431ba26204c4d-1/xgboost/xgboost-ci-windows/src/learner.cc:767: \n",
      "Parameters: { \"score\" } are not used.\n",
      "\n",
      "##################################\n",
      "40.06066711820832 3770.9452067200414\n"
     ]
    }
   ],
   "source": [
    "best_score_, best_params_ = tuning(2000)"
   ]
  },
  {
   "cell_type": "code",
   "execution_count": 20,
   "metadata": {},
   "outputs": [
    {
     "data": {
      "text/plain": [
       "{'colsample_bytree': 0.8,\n",
       " 'eta': 0.1,\n",
       " 'max_depth': 10,\n",
       " 'n_estimators': 100,\n",
       " 'max_leaves': 7,\n",
       " 'seed': 42,\n",
       " 'n_jobs': -1,\n",
       " 'reg_alpha': 100,\n",
       " 'reg_lambda': 0.1,\n",
       " 'subsample': 0.85,\n",
       " 'score': 40.0285843449525}"
      ]
     },
     "execution_count": 20,
     "metadata": {},
     "output_type": "execute_result"
    }
   ],
   "source": [
    "best_params_"
   ]
  }
 ],
 "metadata": {
  "kernelspec": {
   "display_name": "Python 3.10.7 64-bit",
   "language": "python",
   "name": "python3"
  },
  "language_info": {
   "codemirror_mode": {
    "name": "ipython",
    "version": 3
   },
   "file_extension": ".py",
   "mimetype": "text/x-python",
   "name": "python",
   "nbconvert_exporter": "python",
   "pygments_lexer": "ipython3",
   "version": "3.10.7"
  },
  "orig_nbformat": 4,
  "vscode": {
   "interpreter": {
    "hash": "63fe3205e8efeba9f96f95cf15607d81730c1d61122a2e9d63b629d85a51028b"
   }
  }
 },
 "nbformat": 4,
 "nbformat_minor": 2
}
